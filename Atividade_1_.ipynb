{
  "nbformat": 4,
  "nbformat_minor": 0,
  "metadata": {
    "colab": {
      "provenance": [],
      "authorship_tag": "ABX9TyN9i1G3/ck5fAWWPKVlukMs",
      "include_colab_link": true
    },
    "kernelspec": {
      "name": "python3",
      "display_name": "Python 3"
    },
    "language_info": {
      "name": "python"
    }
  },
  "cells": [
    {
      "cell_type": "markdown",
      "metadata": {
        "id": "view-in-github",
        "colab_type": "text"
      },
      "source": [
        "<a href=\"https://colab.research.google.com/github/MarlonPrenholato/ALGESTDADOS_20251/blob/main/Atividade_1_.ipynb\" target=\"_parent\"><img src=\"https://colab.research.google.com/assets/colab-badge.svg\" alt=\"Open In Colab\"/></a>"
      ]
    },
    {
      "cell_type": "markdown",
      "source": [
        "Atividade I - Estruturas Condicionais - Valor: 10 pontos / Marlon Prenholato de Jesus"
      ],
      "metadata": {
        "id": "DSTPHNMe9nh3"
      }
    },
    {
      "cell_type": "code",
      "source": [
        "#1. Peça um número ao usuário e verifique se ele é menor que 50. Informe o resultado com uma mensagem.\n",
        "num= float(input('Digite um valor: '))\n",
        "\n",
        "if num < 50:\n",
        "  print(f'{num} é um valor menor do que 50.')\n",
        "\n",
        "else:\n",
        "  print(f'{num} é um valor maior do que 50.')"
      ],
      "metadata": {
        "colab": {
          "base_uri": "https://localhost:8080/"
        },
        "id": "5WeClq5t9za9",
        "outputId": "78eac5df-16a2-44b7-ce22-dfec423349cd"
      },
      "execution_count": null,
      "outputs": [
        {
          "output_type": "stream",
          "name": "stdout",
          "text": [
            "Digite um valor:60.3\n",
            "60.3 é um valor maior do que 50.\n"
          ]
        }
      ]
    },
    {
      "cell_type": "code",
      "source": [
        "#2. Solicite um número ao usuário e informe se ele é divisível por 7. Para isso, utilize uma verificação simples.\n",
        "num= int(input('Digite um valor: '))\n",
        "\n",
        "if num%7 ==0:\n",
        "  print(f'{num} é um valor divisível por 7.')\n",
        "\n",
        "else:\n",
        "  print(f'{num} não é um valor divisível por 7.')"
      ],
      "metadata": {
        "colab": {
          "base_uri": "https://localhost:8080/"
        },
        "id": "7x2JVXPv-To_",
        "outputId": "d6dce7e6-97ef-41e7-9286-e6571d6bd333"
      },
      "execution_count": null,
      "outputs": [
        {
          "output_type": "stream",
          "name": "stdout",
          "text": [
            "Digite um valor: 8\n",
            "8 não é um valor divisível por 7.\n"
          ]
        }
      ]
    },
    {
      "cell_type": "code",
      "source": [
        "#3. Peça um nome ao usuário e verifique se ele contém a letra \"o\". Exiba uma mensagem informando o resultado.\n",
        "txt= input('Digite uma palavra: ')\n",
        "\n",
        "if 'o' in txt:\n",
        "  print(f'A palavra {txt} contém a letra \"o\".')\n",
        "\n",
        "else:\n",
        "  print(f'A palavra {txt} não contém a letra \"o\".')"
      ],
      "metadata": {
        "colab": {
          "base_uri": "https://localhost:8080/"
        },
        "id": "t9Ck3wuT-Wm4",
        "outputId": "8daf566d-9de0-4f7d-9ce9-5f8a648a3a51"
      },
      "execution_count": null,
      "outputs": [
        {
          "output_type": "stream",
          "name": "stdout",
          "text": [
            "Digite uma palavra: Marlon\n",
            "A palavra Marlon contém a letra \"o\".\n"
          ]
        }
      ]
    },
    {
      "cell_type": "code",
      "source": [
        "#4. Solicite um número inteiro e verifique se ele termina em 0. Utilize operações matemáticas para essa verificação.\n",
        "num= int(input('Digite um valor: '))\n",
        "\n",
        "if num%10==0:\n",
        "  print(f'O {num} termina com 0.')\n",
        "\n",
        "else:\n",
        "  print(f'O {num} não termina com 0.')"
      ],
      "metadata": {
        "colab": {
          "base_uri": "https://localhost:8080/"
        },
        "id": "b7F62lAy-b2T",
        "outputId": "102933a8-f419-4f81-b362-4a8a0e13d63c"
      },
      "execution_count": null,
      "outputs": [
        {
          "output_type": "stream",
          "name": "stdout",
          "text": [
            "Digite um valor: 51\n",
            "O 51 não termina com 0.\n"
          ]
        }
      ]
    },
    {
      "cell_type": "code",
      "source": [
        "#5. Peça a idade de uma pessoa e informe se ela tem idade suficiente para votar (considerando 16 anos como idade mínima).\n",
        "idade= int(input('Digite uma idade: '))\n",
        "if idade >= 16:\n",
        "  print(f'Uma pessoa com {idade} anos, possui a idade suficiente para votar.')\n",
        "\n",
        "else:\n",
        "  print(f'Uma pessoa com {idade} anos, não possui a idade suficiente para votar.')"
      ],
      "metadata": {
        "colab": {
          "base_uri": "https://localhost:8080/"
        },
        "id": "Nz1M6IOG-eqD",
        "outputId": "703306df-6f71-4176-c121-2264eaae5088"
      },
      "execution_count": null,
      "outputs": [
        {
          "output_type": "stream",
          "name": "stdout",
          "text": [
            "Digite uma idade: 15\n",
            "Uma pessoa com 15 anos, não possui a idade suficiente para votar.\n"
          ]
        }
      ]
    },
    {
      "cell_type": "code",
      "source": [
        "#6. Solicite ao usuário que digite um único caractere e informe se ele é uma vogal (a, e, i, o, u).\n",
        "caract= input('Digite um caractere: ')\n",
        "\n",
        "if 'a' in caract:\n",
        "  print(f'O caractere {caract} é uma vogal.')\n",
        "\n",
        "if 'e' in caract:\n",
        "  print(f'O caractere {caract} é uma vogal.')\n",
        "\n",
        "if 'i' in caract:\n",
        "  print(f'O caractere {caract} é uma vogal.')\n",
        "\n",
        "if 'o' in caract:\n",
        "  print(f'O caractere {caract} é uma vogal.')\n",
        "\n",
        "if 'u' in caract:\n",
        "  print(f'O caractere {caract} é uma vogal.')\n",
        "\n",
        "else:\n",
        "  print(f'O caractere {caract} não é uma vogal.')"
      ],
      "metadata": {
        "colab": {
          "base_uri": "https://localhost:8080/"
        },
        "id": "Zw-NILaADmZo",
        "outputId": "a897fd49-d672-48df-f336-f9db8bc0e58d"
      },
      "execution_count": null,
      "outputs": [
        {
          "output_type": "stream",
          "name": "stdout",
          "text": [
            "Digite um caractere: !\n",
            "O caractere ! não é uma vogal.\n"
          ]
        }
      ]
    },
    {
      "cell_type": "code",
      "source": [
        "#7. Peça a temperatura atual em graus Celsius e classifique-a como \"abaixo de zero\", \"entre 0°C e 20°C\" ou \"acima de 20°C\".\n",
        "temp= float(input('Digite uma temperatura: '))\n",
        "\n",
        "if temp < 0:\n",
        "  print(f'A temperatura de {temp}°C, está a abixo de zero.')\n",
        "\n",
        "if 0 < temp < 20:\n",
        "  print(f'A temperatura de {temp}°C, está entre 0°C e 20°C.')\n",
        "\n",
        "else:\n",
        "  print(f'A temperatura de {temp}°C, está acima de 20°C.')"
      ],
      "metadata": {
        "colab": {
          "base_uri": "https://localhost:8080/"
        },
        "id": "TpbGuvjFDm0a",
        "outputId": "4f106c36-9309-49a1-9a27-17a023f987f6"
      },
      "execution_count": null,
      "outputs": [
        {
          "output_type": "stream",
          "name": "stdout",
          "text": [
            "Digite uma temperatura: 21\n",
            "A temperatura de 21°C, está acima de 20°C.\n"
          ]
        }
      ]
    },
    {
      "cell_type": "code",
      "source": [
        "#8. Solicite um número e informe se ele é maior que 1000. Exiba uma mensagem apropriada.\n",
        "num= float(input('Digite uma valor: '))\n",
        "\n",
        "if num > 1000:\n",
        "  print(f'O número {num}, é maior que 1000.')\n",
        "\n",
        "else:\n",
        "  print(f'o numero {num}, é menor que 1000.')"
      ],
      "metadata": {
        "colab": {
          "base_uri": "https://localhost:8080/"
        },
        "id": "vnEQSCUkDnKi",
        "outputId": "35e3578d-f56d-4ad8-cb9c-39792de347f5"
      },
      "execution_count": null,
      "outputs": [
        {
          "output_type": "stream",
          "name": "stdout",
          "text": [
            "Digite uma valor: 1001\n",
            "O número 1001, é maior que 1000.\n"
          ]
        }
      ]
    },
    {
      "cell_type": "code",
      "source": [
        "#9. Peça um valor em reais e informe se ele é múltiplo de 50, ou seja, se o valor pode ser pago apenas com notas de R$50,00.\n",
        "num= int(input('Digite um valor: '))\n",
        "\n",
        "if num%50 ==0:\n",
        "  print(f'O valor de {num:.2f} reais, é múltiplo de 50.')\n",
        "\n",
        "else:\n",
        " print(f'O valor de {num:.2f} reais, não é múltiplo de 50.')"
      ],
      "metadata": {
        "colab": {
          "base_uri": "https://localhost:8080/"
        },
        "id": "9ljjyaR-Dnjk",
        "outputId": "6dd7908c-a4a5-47ce-f6b0-1d4b4a57d7db"
      },
      "execution_count": null,
      "outputs": [
        {
          "output_type": "stream",
          "name": "stdout",
          "text": [
            "Digite um valor: 251\n",
            "O valor de 251.00 reais, não é múltiplo de 50.\n"
          ]
        }
      ]
    },
    {
      "cell_type": "code",
      "source": [
        "#10. Solicite um número ao usuário e verifique se ele está no intervalo entre 100 e 200 (inclusive). Informe o resultado.\n",
        "num= float(input('Digite um valor: '))\n",
        "\n",
        "if 100<num<200:\n",
        "  print(f'O número {num}, está no intervalo entre 100 e 200.')\n",
        "\n",
        "else:\n",
        "  print(f'O número {num}, não está no intervalo entre 100 e 200.')"
      ],
      "metadata": {
        "colab": {
          "base_uri": "https://localhost:8080/"
        },
        "id": "lxx_fBS7DnwT",
        "outputId": "00fe142b-b446-4563-89e3-8adbc3a27017"
      },
      "execution_count": null,
      "outputs": [
        {
          "output_type": "stream",
          "name": "stdout",
          "text": [
            "Digite um valor: 100.1\n",
            "O número 100.1, está no intervalo entre 100 e 200.\n"
          ]
        }
      ]
    },
    {
      "cell_type": "code",
      "source": [
        "#11. Peça a altura de uma árvore em metros e informe se ela tem menos de 5 metros de altura.\n",
        "altura=float(input('Digite uma altura de árvore: '))\n",
        "\n",
        "if altura < 5:\n",
        "  print(f'A árvore de {altura}m, possui uma altura menor do que 5 metros.')\n",
        "\n",
        "else:\n",
        "  print(f'A árvore de {altura}m, não possui uma altura menor do que 5 metros.')"
      ],
      "metadata": {
        "colab": {
          "base_uri": "https://localhost:8080/"
        },
        "id": "7v33XS0iJ01N",
        "outputId": "6f309d53-2568-40c3-8206-a04bd3660c52"
      },
      "execution_count": null,
      "outputs": [
        {
          "output_type": "stream",
          "name": "stdout",
          "text": [
            "Digite uma altura de árvore: 4.02\n",
            "A árvore de 4.02m, possui uma altura menor do que 5 metros.\n"
          ]
        }
      ]
    },
    {
      "cell_type": "code",
      "source": [
        "#12. Solicite a temperatura de um líquido em graus Celsius e informe seu estado físico: \"congelado\" (≤0°C), \"líquido\" (0°C a 100°C) ou \"ebulição\" (>100°C).\n",
        "temp= float(input('Digite uma temperatura de líquido: '))\n",
        "\n",
        "if temp <=0:\n",
        "  print(f'O líquido com a temperatura de {temp}°C, seu estado físico é congelado.')\n",
        "\n",
        "elif 0 <temp<100:\n",
        "  print(f'O líquido com a temperatura de {temp}°C, seu estado físico é líquido.')\n",
        "\n",
        "else:\n",
        "  print(f'O líquido com a temperatura de {temp}°C, seu estado físico é de ebulição.')"
      ],
      "metadata": {
        "colab": {
          "base_uri": "https://localhost:8080/"
        },
        "id": "-qttGxJTJ1Un",
        "outputId": "18cd5cf3-d7fa-4e0a-ac64-6dd33d372698"
      },
      "execution_count": null,
      "outputs": [
        {
          "output_type": "stream",
          "name": "stdout",
          "text": [
            "Digite uma temperatura de líquido: -9\n",
            "O líquido com a temperatura de -9.0°C, seu estado físico é congelado.\n"
          ]
        }
      ]
    },
    {
      "cell_type": "code",
      "source": [
        "#13. Peça um número inteiro e verifique se ele é múltiplo de 10. Mostre uma mensagem indicando o resultado.\n",
        "num= int(input('Digite um valor: '))\n",
        "\n",
        "if num%10 ==0:\n",
        "  print(f'{num} é um valor múltiplo de 10.')\n",
        "\n",
        "else:\n",
        "  print(f'{num} não é um valor múltiplo de 10.')"
      ],
      "metadata": {
        "colab": {
          "base_uri": "https://localhost:8080/"
        },
        "id": "Bv1ZgfYfJ1jZ",
        "outputId": "5124d642-cb19-4c42-8de5-084c62755068"
      },
      "execution_count": null,
      "outputs": [
        {
          "output_type": "stream",
          "name": "stdout",
          "text": [
            "Digite um valor: 101\n",
            "101 não é um valor múltiplo de 10.\n"
          ]
        }
      ]
    },
    {
      "cell_type": "code",
      "source": [
        "#14. Solicite a nota final de dois alunos e exiba qual deles teve a maior pontuação.\n",
        "aluno1 = float(input('Digite a nota do primeiro aluno: '))\n",
        "aluno2 = float(input('Digite a nota do segundo aluno: '))\n",
        "\n",
        "if aluno1 > aluno2:\n",
        "  print(f'O aluno 1 teve a nota de {aluno1} pontos, sendo assim, uma nota maior do que o aluno 2 de {aluno2} pontos.')\n",
        "\n",
        "else:\n",
        "  print(f'O aluno 1 teve a nota de {aluno1} pontos, sendo assim, uma nota menor do que o aluno 2 de {aluno2} pontos.')"
      ],
      "metadata": {
        "colab": {
          "base_uri": "https://localhost:8080/"
        },
        "id": "hSL44iWhJ1zy",
        "outputId": "457cd661-a649-48bf-be74-efa9b2490081"
      },
      "execution_count": null,
      "outputs": [
        {
          "output_type": "stream",
          "name": "stdout",
          "text": [
            "Digite a nota do primeiro aluno: 14\n",
            "Digite a nota do segundo aluno: 15\n",
            "O aluno 1 teve a nota de 14.0 pontos, sendo assim, uma nota menor do que o aluno 2 de 15.0 pontos.\n"
          ]
        }
      ]
    },
    {
      "cell_type": "code",
      "source": [
        "#15. Peça o nome de uma fruta e verifique se ela contém a letra \"e\". Exiba o resultado.\n",
        "palav= input('Digite o nome de uma fruta: ')\n",
        "\n",
        "if 'e' in palav:\n",
        "  print(f'A fruta {palav}, possuí a letra \"e\" na escrita.')\n",
        "\n",
        "else:\n",
        "  print(f'A fruta {palav}, não possuí a letra \"e\" na escrita.')"
      ],
      "metadata": {
        "colab": {
          "base_uri": "https://localhost:8080/"
        },
        "id": "7pb1chHPJ2Dk",
        "outputId": "ee8c3b6e-71e1-4132-a800-8d8d51c1689e"
      },
      "execution_count": null,
      "outputs": [
        {
          "output_type": "stream",
          "name": "stdout",
          "text": [
            "Digite o nome de uma fruta: melancia\n",
            "A fruta melancia, possuí a letra \"e\" na escrita.\n"
          ]
        }
      ]
    },
    {
      "cell_type": "code",
      "source": [
        "#16. Peça a velocidade de um carro em km/h e informe se ela ultrapassa o limite de 80 km/h.\n",
        "vel= float(input('Digite a velocidade média de um carro: '))\n",
        "\n",
        "if vel<80:\n",
        "  print(f'O carro com a velocidade de {vel}km/h está dentro do limite de 80km/h.')\n",
        "\n",
        "else:\n",
        "  print(f'O carro com a velocidade de {vel}km/h, ultrapassou o limite de 80km/h.')"
      ],
      "metadata": {
        "colab": {
          "base_uri": "https://localhost:8080/"
        },
        "id": "hc5XI96BXpsr",
        "outputId": "d80c3049-8d70-4525-92b6-e067ec905bc1"
      },
      "execution_count": null,
      "outputs": [
        {
          "output_type": "stream",
          "name": "stdout",
          "text": [
            "Digite a velocidade média de um carro: 81\n",
            "O carro com a velocidade de 81.0km/h, ultrapassou o limite de 80km/h.\n"
          ]
        }
      ]
    },
    {
      "cell_type": "code",
      "source": [
        "#17. Solicite um número ao usuário e informe se ele é divisível por 4 ou por 5. Exiba uma mensagem adequada.\n",
        "num= int(input('Digite um valor: '))\n",
        "\n",
        "if num%4==0 or num%5==0:\n",
        "  print(f'{num} é um valor divisível por 4 ou 5.')\n",
        "\n",
        "else:\n",
        "  print(f'{num} não é um valor divisível por 4 ou 5.')"
      ],
      "metadata": {
        "colab": {
          "base_uri": "https://localhost:8080/"
        },
        "id": "XTKZW18PXpld",
        "outputId": "06c4f546-6f14-44bc-d134-f6d832a55414"
      },
      "execution_count": null,
      "outputs": [
        {
          "output_type": "stream",
          "name": "stdout",
          "text": [
            "Digite um valor: 17\n",
            "17 não é um valor divisível por 4 ou 5.\n"
          ]
        }
      ]
    },
    {
      "cell_type": "code",
      "source": [
        "#18. Peça uma palavra ao usuário e verifique se ela contém a letra \"z\". Mostre uma mensagem informando o resultado.\n",
        "palavra= input('Digite uma palavra: ')\n",
        "\n",
        "if 'z' in palavra:\n",
        "  print(f'A palavra {palavra}, contém a letra \"z\".')\n",
        "\n",
        "else:\n",
        "  print(f'A palavra {palavra}, não contém a letra \"z\".')"
      ],
      "metadata": {
        "colab": {
          "base_uri": "https://localhost:8080/"
        },
        "id": "xgxx1gzpXpdw",
        "outputId": "2735e05b-b5dd-4660-d1fc-8cfd7dd76c2d"
      },
      "execution_count": null,
      "outputs": [
        {
          "output_type": "stream",
          "name": "stdout",
          "text": [
            "Digite uma palavra: zootopia\n",
            "A palavra zootopia, contém a letra \"z\".\n"
          ]
        }
      ]
    },
    {
      "cell_type": "code",
      "source": [
        "#19. Solicite a quantidade de itens em um pedido e informe se ela é maior ou menor que 15 unidades.\n",
        "quant= int(input('Digite a quantidade de itens de um pedido: '))\n",
        "\n",
        "if quant>15:\n",
        "  print(f'A quantidade de {quant} itens excede 15 unidades.')\n",
        "\n",
        "else:\n",
        "  print(f'A quantidade de {quant} itens é menor que 15 unidades.')"
      ],
      "metadata": {
        "colab": {
          "base_uri": "https://localhost:8080/"
        },
        "id": "zISlNDZmXpU0",
        "outputId": "22121041-79c1-43c2-af16-8e9e72a908bb"
      },
      "execution_count": null,
      "outputs": [
        {
          "output_type": "stream",
          "name": "stdout",
          "text": [
            "Digite a quantidade de itens de um pedido: 14\n",
            "A quantidade de 14 itens é menor que 15 unidades.\n"
          ]
        }
      ]
    },
    {
      "cell_type": "code",
      "source": [
        "#20. Peça um número e verifique se ele termina com o dígito 7. Informe o resultado.\n",
        "num = input('Digite um valor: ')\n",
        "\n",
        "x = num[-1] #[] identificar que é um vetor, e fazer a leitura no sentido contrário do valor?\n",
        "if '7' in x:\n",
        "  print(f'O valor {num}, termina com o número 7.')\n",
        "\n",
        "else:\n",
        "  print(f'O valor {num}, não termina com o número 7.')\n",
        "\n",
        "\n",
        "\n"
      ],
      "metadata": {
        "colab": {
          "base_uri": "https://localhost:8080/"
        },
        "id": "WrGCj0uAXpFP",
        "outputId": "9af65825-ae91-4ee5-c8e8-443723edc122"
      },
      "execution_count": null,
      "outputs": [
        {
          "output_type": "stream",
          "name": "stdout",
          "text": [
            "Digite um valor: 567\n",
            "O valor 567, termina com o número 7.\n"
          ]
        }
      ]
    },
    {
      "cell_type": "code",
      "source": [
        "#21. Solicite o ano de fabricação de um veículo e informe se ele tem mais de 20 anos.\n",
        "from datetime import datetime\n",
        "\n",
        "ano_do_car= input('Digite o ano do veículo, dd/mm/YYYY: ')\n",
        "calc_1= datetime.now() - datetime.strptime(ano_do_car,'%d/%m/%Y')\n",
        "calc= calc_1.days // 365\n",
        "\n",
        "if calc>20:\n",
        "  print(f'O veículo possuí mais de 20 anos.')\n",
        "\n",
        "else:\n",
        "  print(f'O veículo possuí menos de 20 anos.')\n",
        "\n"
      ],
      "metadata": {
        "colab": {
          "base_uri": "https://localhost:8080/"
        },
        "id": "q3rX70zuJCUO",
        "outputId": "0d510067-f670-4537-f8aa-d6a6c079aa98"
      },
      "execution_count": null,
      "outputs": [
        {
          "output_type": "stream",
          "name": "stdout",
          "text": [
            "Digite o ano do veículo, dd/mm/YYYY: 10/08/1999\n",
            "O veículo possuí mais de 20 anos.\n"
          ]
        }
      ]
    },
    {
      "cell_type": "code",
      "source": [
        "#22. Peça um número de telefone e verifique se ele contém o dígito 9. Exiba o resultado.\n",
        "num= input('Digite um número de celular: ')\n",
        "\n",
        "if '9' in num:\n",
        "  print(f'O número {num}, possuí o número 9.')\n",
        "\n",
        "else:\n",
        "  print(f'O número {num}, não possuí o número 9.')"
      ],
      "metadata": {
        "colab": {
          "base_uri": "https://localhost:8080/"
        },
        "id": "rNIiqx_UJCNo",
        "outputId": "0d99a9ad-3ba2-46e9-ffad-444e3a7bac3c"
      },
      "execution_count": null,
      "outputs": [
        {
          "output_type": "stream",
          "name": "stdout",
          "text": [
            "Digite um número de celular: 279099\n",
            "O número 279099, possuí o número 9.\n"
          ]
        }
      ]
    },
    {
      "cell_type": "code",
      "source": [
        "#23. Solicite um número e informe se ele possui exatamente 2 dígitos.\n",
        "num= input('Digite um valor: ')\n",
        "\n",
        "x = len(num)\n",
        "\n",
        "if x==2:\n",
        "  print(f'O número {num}, possuí extamente dois dígitos.')\n",
        "\n",
        "elif x<2:\n",
        "  print(f'O número {num}, possuí menos de dois dígitos.')\n",
        "\n",
        "else:\n",
        "  print(f'O número {num}, possuí mais de dois dígitos.')"
      ],
      "metadata": {
        "colab": {
          "base_uri": "https://localhost:8080/"
        },
        "id": "ZC__2hX4JCJl",
        "outputId": "bc8cd106-4843-4a73-ce55-d8e8385d0425"
      },
      "execution_count": null,
      "outputs": [
        {
          "output_type": "stream",
          "name": "stdout",
          "text": [
            "Digite um valor: 90\n",
            "O número 90, possuí extamente dois dígitos.\n"
          ]
        }
      ]
    },
    {
      "cell_type": "code",
      "source": [
        "#24. Peça o preço de um ingresso e aplique um desconto de 15%.\n",
        "#Verifique se o preço com desconto ainda é superior a R$50,00 e exiba uma mensagem informando o resultado.\n",
        "ingresso= int(input('Digite o preço do ingresso: '))\n",
        "\n",
        "desc= ingresso - (ingresso*0.15)\n",
        "\n",
        "if desc>50:\n",
        "  print(f'O ingresso com desconto fica no valor de R${desc:.2f} e ainda excede o valor de R$50,00.')\n",
        "\n",
        "else:\n",
        "  print(f'O ingresso com desconto fica no valor de R${desc:.2f}, não excede o valor de R$50,00.')"
      ],
      "metadata": {
        "colab": {
          "base_uri": "https://localhost:8080/"
        },
        "id": "IwnKNdT8JCDf",
        "outputId": "486de073-6484-48a1-f57c-fc6cec01f36c"
      },
      "execution_count": null,
      "outputs": [
        {
          "output_type": "stream",
          "name": "stdout",
          "text": [
            "Digite o preço do ingresso: 60\n",
            "O ingresso com desconto fica no valor de R$51.00 e ainda excede o valor de R$50,00.\n"
          ]
        }
      ]
    },
    {
      "cell_type": "code",
      "source": [
        "#25. Solicite um número ao usuário e informe se ele é divisível por 8. Exiba o resultado.\n",
        "num= int(input('Digite um valor: '))\n",
        "\n",
        "if num%8==0:\n",
        "  print(f'O valor {num}, é divisível por 8.')\n",
        "\n",
        "else:\n",
        "  print(f'O valor {num}, não é divisível por 8.')"
      ],
      "metadata": {
        "id": "CxzMifSBJB29",
        "colab": {
          "base_uri": "https://localhost:8080/"
        },
        "outputId": "73dd566b-2037-4746-854e-cdd7426c6d8b"
      },
      "execution_count": null,
      "outputs": [
        {
          "output_type": "stream",
          "name": "stdout",
          "text": [
            "Digite um valor: 24\n",
            "O valor 24, é divisível por 8.\n"
          ]
        }
      ]
    },
    {
      "cell_type": "code",
      "source": [
        "#26. Peça um número e verifique se ele é divisível tanto por 5 quanto por 9. Informe o resultado.\n",
        "num= int(input('Digite um valor: '))\n",
        "\n",
        "if num%5==0 and num%9==0:\n",
        "  print(f'O valor {num}, é divisível tanto por 5 quanto por 9.')\n",
        "\n",
        "else:\n",
        "  print(f'O valor {num}, não é divisível por 5 e por 9.')\n"
      ],
      "metadata": {
        "id": "pJfYQ3hmR8Dz",
        "colab": {
          "base_uri": "https://localhost:8080/"
        },
        "outputId": "a9047d98-02ac-49b2-b308-16ba792971b5"
      },
      "execution_count": null,
      "outputs": [
        {
          "output_type": "stream",
          "name": "stdout",
          "text": [
            "Digite um valor: 90\n",
            "O valor 90, é divisível tanto por 5 quanto por 9.\n"
          ]
        }
      ]
    },
    {
      "cell_type": "code",
      "source": [
        "#27. Solicite o peso de um objeto em kg e informe se ele pesa mais de 25 kg.\n",
        "peso= float(input('Digite um peso: '))\n",
        "\n",
        "if peso>25:\n",
        "  print(f'O peso de {peso}kg, supera os 25kg.')\n",
        "\n",
        "else:\n",
        "  print(f'O peso de {peso}kg, não supera os 25kg.')\n"
      ],
      "metadata": {
        "id": "N0grlMb1R8Aq",
        "colab": {
          "base_uri": "https://localhost:8080/"
        },
        "outputId": "ce9fc944-779d-40b4-cec5-2f6969aaffaa"
      },
      "execution_count": null,
      "outputs": [
        {
          "output_type": "stream",
          "name": "stdout",
          "text": [
            "Digite um peso: 26\n",
            "O peso de 26.0kg, supera os 25kg.\n"
          ]
        }
      ]
    },
    {
      "cell_type": "code",
      "source": [
        "#28. Peça uma letra ao usuário e informe se ela é uma vogal ou uma consoante. Considere letras minúsculas e maiúsculas.\n",
        "let= input('Digite uma letra: ')\n",
        "\n",
        "if 'a,e,i,o,u' in let:\n",
        "  print(f'A letra {let}, é uma vogal.')\n",
        "\n",
        "elif 'e' in let:\n",
        "  print(f'A letra {let}, é uma vogal.')\n",
        "\n",
        "elif 'i' in let:\n",
        "  print(f'A letra {let}, é uma vogal.')\n",
        "\n",
        "elif 'o' in let:\n",
        "  print(f'A letra {let}, é uma vogal.')\n",
        "\n",
        "elif 'u' in let:\n",
        "  print(f'A letra {let}, é uma vogal.')\n",
        "\n",
        "else:\n",
        "  print(f'A eltra {let}, é uma consoante.')"
      ],
      "metadata": {
        "id": "NgHwjrsHR79b",
        "colab": {
          "base_uri": "https://localhost:8080/"
        },
        "outputId": "98bfdb68-151d-4305-a409-476f22ca1beb"
      },
      "execution_count": null,
      "outputs": [
        {
          "output_type": "stream",
          "name": "stdout",
          "text": [
            "Digite uma letra: e\n",
            "A letra e, é uma vogal.\n"
          ]
        }
      ]
    },
    {
      "cell_type": "code",
      "source": [
        "#29. Solicite a velocidade de um veículo e informe se ela está abaixo, dentro ou acima do limite de 60 km/h.\n",
        "vel= float(input('Digite uma velociade: '))\n",
        "\n",
        "if vel==60:\n",
        "  print(f'O veículo está dentro do limite de velociade de 60 km/h.')\n",
        "\n",
        "elif vel<60:\n",
        "  print(f'O veículo está abaixo do limite de velociade de 60 km/h.')\n",
        "\n",
        "else:\n",
        "  print(f'O veículo está acima do limite de velociade de 60 km/h.')"
      ],
      "metadata": {
        "id": "5nRFmfUpR73S",
        "colab": {
          "base_uri": "https://localhost:8080/"
        },
        "outputId": "e5bf8b02-f326-4221-942b-39959851be18"
      },
      "execution_count": null,
      "outputs": [
        {
          "output_type": "stream",
          "name": "stdout",
          "text": [
            "Digite uma velociade: 20\n",
            "O veículo está abaixo do limite de velociade.\n"
          ]
        }
      ]
    },
    {
      "cell_type": "code",
      "source": [
        "#30. Peça um valor em reais ao usuário e verifique se ele é suficiente para comprar um produto que custa R$200,00. Exiba uma mensagem com a resposta.\n",
        "valor= float(input('Digite um valor: '))\n",
        "\n",
        "if valor==200:\n",
        "  print(f'O valor de R${valor:.2f}, é o suficiente para comprar o produto de R$200,00.')\n",
        "\n",
        "elif valor>200:\n",
        "  print(f'O valor de R${valor:.2f}, é mais do que o suficiente para comprar o produto de R$200,00.')\n",
        "\n",
        "else:\n",
        "  print(f'O valor de R${valor:.2f}, não é o suficiente para comprar o produto de R$200,00.')"
      ],
      "metadata": {
        "id": "bPdiupcDR7m6",
        "colab": {
          "base_uri": "https://localhost:8080/"
        },
        "outputId": "4101ff82-640e-4fbc-e057-f7fbfd18eaf7"
      },
      "execution_count": null,
      "outputs": [
        {
          "output_type": "stream",
          "name": "stdout",
          "text": [
            "Digite um valor: 200.50\n",
            "O valor de R$200.50, é mais do que o suficiente para comprar o produto de R$200,00.\n"
          ]
        }
      ]
    }
  ]
}