{
  "nbformat": 4,
  "nbformat_minor": 0,
  "metadata": {
    "colab": {
      "provenance": [],
      "authorship_tag": "ABX9TyNLFL1JRAgH8iPixz/Z1T/g",
      "include_colab_link": true
    },
    "kernelspec": {
      "name": "python3",
      "display_name": "Python 3"
    },
    "language_info": {
      "name": "python"
    }
  },
  "cells": [
    {
      "cell_type": "markdown",
      "metadata": {
        "id": "view-in-github",
        "colab_type": "text"
      },
      "source": [
        "<a href=\"https://colab.research.google.com/github/MarlonPrenholato/ALGESTDADOS_20251/blob/main/Alan_Turing_VASCO.ipynb\" target=\"_parent\"><img src=\"https://colab.research.google.com/assets/colab-badge.svg\" alt=\"Open In Colab\"/></a>"
      ]
    },
    {
      "cell_type": "code",
      "source": [
        "\n",
        "num1= int (input('digite o primeiro numero: '))\n",
        "num2= int (input('digite o segundo numero: '))\n",
        "resultado=num1 + num2\n",
        "print(resultado)\n",
        "\n",
        "num1= int (input('digite o primeiro numero: '))\n",
        "num2= int (input('digite o segundo numero: '))\n",
        "resultado=num1 + num2\n",
        "print(resultado)"
      ],
      "metadata": {
        "colab": {
          "base_uri": "https://localhost:8080/"
        },
        "id": "ZMz4rQoraLcl",
        "outputId": "e5147537-814b-41fc-a2e8-ddba6d1f6ab1"
      },
      "execution_count": 1,
      "outputs": [
        {
          "output_type": "stream",
          "name": "stdout",
          "text": [
            "digite o primeiro numero: 19\n",
            "digite o segundo numero: 19\n",
            "38\n",
            "digite o primeiro numero: 19\n",
            "digite o segundo numero: 35\n",
            "54\n"
          ]
        }
      ]
    },
    {
      "cell_type": "code",
      "source": [],
      "metadata": {
        "id": "QIBlxutUaA4k"
      },
      "execution_count": null,
      "outputs": []
    }
  ]
}