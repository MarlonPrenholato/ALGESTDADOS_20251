{
  "nbformat": 4,
  "nbformat_minor": 0,
  "metadata": {
    "colab": {
      "provenance": [],
      "authorship_tag": "ABX9TyMgab3N9v0hgIyugkh1XKJs",
      "include_colab_link": true
    },
    "kernelspec": {
      "name": "python3",
      "display_name": "Python 3"
    },
    "language_info": {
      "name": "python"
    }
  },
  "cells": [
    {
      "cell_type": "markdown",
      "metadata": {
        "id": "view-in-github",
        "colab_type": "text"
      },
      "source": [
        "<a href=\"https://colab.research.google.com/github/MarlonPrenholato/ALGESTDADOS_20251/blob/main/Alan_Turing_VASCO.ipynb\" target=\"_parent\"><img src=\"https://colab.research.google.com/assets/colab-badge.svg\" alt=\"Open In Colab\"/></a>"
      ]
    },
    {
      "cell_type": "code",
      "source": [
        "\n",
        "num1= int (input('digite o primeiro numero: '))\n",
        "\n",
        "num2= int (input('digite o segundo numero: '))\n",
        "resultado=num1 + num2\n",
        "print(resultado)\n"
      ],
      "metadata": {
        "colab": {
          "base_uri": "https://localhost:8080/"
        },
        "id": "ZMz4rQoraLcl",
        "outputId": "a4275abe-ab72-41b2-bed7-70404334d458"
      },
      "execution_count": null,
      "outputs": [
        {
          "output_type": "stream",
          "name": "stdout",
          "text": [
            "digite o primeiro numero: 19\n",
            "digite o segundo numero: 19\n",
            "38\n"
          ]
        }
      ]
    },
    {
      "cell_type": "code",
      "source": [
        "#Programa para calcular o IMC\n",
        "num1= int (input('digite o peso numero: '))\n",
        "print(f'Seu peso é {num1}Kg')\n",
        "num2= float (input('digite a altura numero: '))\n",
        "print(f'Sua altura é {num2}m')\n",
        "\n",
        "resultado=num1 / (num2**2)\n",
        "print(f'{resultado}%')"
      ],
      "metadata": {
        "colab": {
          "base_uri": "https://localhost:8080/"
        },
        "id": "kQGNLhNy-5MQ",
        "outputId": "e0d5d758-b44f-4c45-e848-e23cbbc69c64"
      },
      "execution_count": null,
      "outputs": [
        {
          "output_type": "stream",
          "name": "stdout",
          "text": [
            "digite o peso numero: 90\n",
            "Seu peso é 90Kg\n",
            "digite a altura numero: 1.70\n",
            "Sua altura é 1.7m\n",
            "31.14186851211073 %\n"
          ]
        }
      ]
    },
    {
      "cell_type": "code",
      "source": [
        "#Criar um programa que retorne o nome, a cidade e a idade de um usuário através da sua data de nascimento:\n",
        "\n",
        "from datetime import datetime\n",
        "\n",
        "nome = input('digite o seu nome: ')\n",
        "cidade = input('digite o nome da sua cidade: ')\n",
        "data_nasc = input('digite quando você nasceu (DD/MM/YYYY):')\n",
        "\n",
        "\n",
        "idade = datetime.now() - datetime.strptime(data_nasc, '%d/%m/%Y')\n",
        "\n",
        "idade = idade.days // 365\n",
        "\n",
        "print(f'Seu nome é {nome}, sua cidade é {cidade}, sua idade é {idade} anos.')\n"
      ],
      "metadata": {
        "id": "QIBlxutUaA4k",
        "colab": {
          "base_uri": "https://localhost:8080/"
        },
        "outputId": "4a425f4b-4253-4029-84a9-a61ced90c8ec"
      },
      "execution_count": 21,
      "outputs": [
        {
          "output_type": "stream",
          "name": "stdout",
          "text": [
            "digite o seu nome: Marlon \n",
            "digite o nome da sua cidade: Nova Venécia - ES \n",
            "digite quando você nasceu (DD/MM/YYYY):10/06/2005\n",
            "Seu nome é Marlon , sua cidade é Nova Venécia - ES , sua idade é 19 anos.\n"
          ]
        }
      ]
    }
  ]
}