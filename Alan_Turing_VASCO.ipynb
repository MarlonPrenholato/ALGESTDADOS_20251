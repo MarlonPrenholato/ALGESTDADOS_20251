{
  "nbformat": 4,
  "nbformat_minor": 0,
  "metadata": {
    "colab": {
      "provenance": [],
      "authorship_tag": "ABX9TyMo/58DZqLEJ/7e5E9yx1Ow",
      "include_colab_link": true
    },
    "kernelspec": {
      "name": "python3",
      "display_name": "Python 3"
    },
    "language_info": {
      "name": "python"
    }
  },
  "cells": [
    {
      "cell_type": "markdown",
      "metadata": {
        "id": "view-in-github",
        "colab_type": "text"
      },
      "source": [
        "<a href=\"https://colab.research.google.com/github/MarlonPrenholato/ALGESTDADOS_20251/blob/main/Alan_Turing_VASCO.ipynb\" target=\"_parent\"><img src=\"https://colab.research.google.com/assets/colab-badge.svg\" alt=\"Open In Colab\"/></a>"
      ]
    },
    {
      "cell_type": "code",
      "source": [
        "\n",
        "num1= int (input('digite o primeiro numero: '))\n",
        "\n",
        "num2= int (input('digite o segundo numero: '))\n",
        "resultado=num1 + num2\n",
        "print(resultado)\n"
      ],
      "metadata": {
        "colab": {
          "base_uri": "https://localhost:8080/"
        },
        "id": "ZMz4rQoraLcl",
        "outputId": "a4275abe-ab72-41b2-bed7-70404334d458"
      },
      "execution_count": null,
      "outputs": [
        {
          "output_type": "stream",
          "name": "stdout",
          "text": [
            "digite o primeiro numero: 19\n",
            "digite o segundo numero: 19\n",
            "38\n"
          ]
        }
      ]
    },
    {
      "cell_type": "code",
      "source": [
        "#Programa para calcular o IMC\n",
        "num1= int (input('digite o peso numero: '))\n",
        "print(f'Seu peso é {num1}Kg')\n",
        "num2= float (input('digite a altura numero: '))\n",
        "print(f'Sua altura é {num2}m')\n",
        "\n",
        "resultado=num1 / (num2**2)\n",
        "print(f'{resultado}%')"
      ],
      "metadata": {
        "colab": {
          "base_uri": "https://localhost:8080/"
        },
        "id": "kQGNLhNy-5MQ",
        "outputId": "e0d5d758-b44f-4c45-e848-e23cbbc69c64"
      },
      "execution_count": null,
      "outputs": [
        {
          "output_type": "stream",
          "name": "stdout",
          "text": [
            "digite o peso numero: 90\n",
            "Seu peso é 90Kg\n",
            "digite a altura numero: 1.70\n",
            "Sua altura é 1.7m\n",
            "31.14186851211073 %\n"
          ]
        }
      ]
    },
    {
      "cell_type": "code",
      "source": [
        "#Criar um programa que retorne o nome, a cidade e a idade de um usuário através da sua data de nascimento:\n",
        "\n",
        "from datetime import datetime\n",
        "\n",
        "nome = input('digite o seu nome: ')\n",
        "cidade = input('digite o nome da sua cidade: ')\n",
        "data_nasc = input('digite quando você nasceu (DD/MM/YYYY):')\n",
        "\n",
        "\n",
        "idade = datetime.now() - datetime.strptime(data_nasc, '%d/%m/%Y')\n",
        "\n",
        "idade = idade.days // 365\n",
        "\n",
        "print(f'Seu nome é {nome}, sua cidade é {cidade}, sua idade é {idade} anos.')\n"
      ],
      "metadata": {
        "id": "QIBlxutUaA4k",
        "colab": {
          "base_uri": "https://localhost:8080/"
        },
        "outputId": "4a425f4b-4253-4029-84a9-a61ced90c8ec"
      },
      "execution_count": null,
      "outputs": [
        {
          "output_type": "stream",
          "name": "stdout",
          "text": [
            "digite o seu nome: Marlon \n",
            "digite o nome da sua cidade: Nova Venécia - ES \n",
            "digite quando você nasceu (DD/MM/YYYY):10/06/2005\n",
            "Seu nome é Marlon , sua cidade é Nova Venécia - ES , sua idade é 19 anos.\n"
          ]
        }
      ]
    },
    {
      "cell_type": "code",
      "source": [
        "from datetime import datetime, date,  time, timedelta\n",
        "import pytz\n",
        "\n",
        "#data_hora_atual = datetime.now()\n",
        "#print('data e hora atual: ', data_hora_atual)\n",
        "\n",
        "fuso_horario = pytz.timezone('America/Sao_Paulo')\n",
        "data_hora_sao_paulo = datetime.now(fuso_horario)\n",
        "print(data_hora_sao_paulo.strftime('%d/%m/%Y e são %H:%M:%S'))\n"
      ],
      "metadata": {
        "colab": {
          "base_uri": "https://localhost:8080/"
        },
        "id": "Kn8L7oSGxoMw",
        "outputId": "36a812a7-5a41-4df3-e84c-3a1c3219ae81"
      },
      "execution_count": null,
      "outputs": [
        {
          "output_type": "stream",
          "name": "stdout",
          "text": [
            "07/03/2025 e são 15:20:19\n"
          ]
        }
      ]
    },
    {
      "cell_type": "code",
      "source": [
        "from datetime import datetime, date,  time, timedelta\n",
        "import pytz\n",
        "\n",
        "#1 Solicite a data e hora atual do sistema e exiba-a formatado no seguinte formato: \"dia de mês de ano, HH:MM:SS\"\n",
        "fuso_horario = pytz.timezone('America/Sao_Paulo')\n",
        "data_hora_sao_paulo = datetime.now(fuso_horario)\n",
        "print(data_hora_sao_paulo.strftime('%d/%m/%Y e são %H:%M:%S'))\n",
        "\n",
        "#2 Pedir ao usuário sua data de nascimento (no formato dd/mm/aaaa) e calcular sua idade atual.\n",
        "data_nasc = input('digite quando você nasceu (DD/MM/YYYY):')\n",
        "\n",
        "idade = datetime.now() - datetime.strptime(data_nasc, '%d/%m/%Y')\n",
        "\n",
        "idade = idade.days // 365\n",
        "print(f'Sua idade é {idade} anos.')\n",
        "\n",
        "#3 Peça ao usuário a data de um evento futuro e calcule quantos dias faltam para ele:\n",
        "\n",
        "data_event = input('digite quando será o evento (DD/MM/YYYY):')\n",
        "data_event_De = datetime.strptime(data_event, '%d/%m/%Y') . date()\n",
        "calc = (data_event_De - date.today()).days\n",
        "\n",
        "\n",
        "print(f'Faltam {calc} dias para o evento.')\n",
        "\n",
        "#5 Exiba a date e hora atuais em três fusos horários diferentes: São Paulo, Nova York e Tókio\n"
      ],
      "metadata": {
        "colab": {
          "base_uri": "https://localhost:8080/"
        },
        "id": "pRQIyS6q9AMM",
        "outputId": "0653bd61-82aa-4329-8003-ef02ac215212"
      },
      "execution_count": 7,
      "outputs": [
        {
          "output_type": "stream",
          "name": "stdout",
          "text": [
            "09/03/2025 e são 14:36:47\n",
            "digite quando você nasceu (DD/MM/YYYY):10/06/2005\n",
            "Sua idade é 19 anos.\n",
            "digite quando será o evento (DD/MM/YYYY):10/12/2030\n",
            "Faltam 2102 dias para o evento.\n"
          ]
        }
      ]
    },
    {
      "cell_type": "code",
      "source": [
        "#4 Peça ao usuário uma dta e informe o seu dia da semana correspondente:\n",
        "\n",
        "from datetime import datetime, date,  time, timedelta\n",
        "import pytz\n",
        "dias = ['segunda-feira', 'terça-feira', 'quarta-feira', 'quinta-feira', 'sexta-feira', 'sábado', 'domingo']\n",
        "data_usuario = input('digite uma data (DD/MM/YYYY):')\n",
        "data_usuario_D = datetime.strptime(data_usuario, '%d/%m/%Y') . weekday()\n",
        "print(f'o dia da semana é: {dias[data_usuario_D]}')\n",
        "\n",
        "#5 Exiba a date e hora atuais em três fusos horários diferentes: São Paulo, Nova York e Tókio\n",
        "\n",
        "fuso_horario = pytz.timezone('America/Sao_Paulo')\n",
        "data_hora_sao_paulo = datetime.now(fuso_horario)\n",
        "print(data_hora_sao_paulo.strftime('%d/%m/%Y e são %H:%M:%S em São Pulo'))\n",
        "\n",
        "fuso_horario = pytz.timezone('America/New_York')\n",
        "data_hora_nova_York = datetime.now(fuso_horario)\n",
        "print(data_hora_nova_York.strftime('%d/%m/%Y e são %H:%M:%S em Nova York'))\n",
        "\n",
        "fuso_horario = pytz.timezone('Asia/Tokyo')\n",
        "data_hora_tokyo = datetime.now(fuso_horario)\n",
        "print(data_hora_tokyo.strftime('%d/%m/%Y e são %H:%M:%S em Tokyo'))"
      ],
      "metadata": {
        "colab": {
          "base_uri": "https://localhost:8080/"
        },
        "id": "vDJUGnMk6vsd",
        "outputId": "6726625c-ede7-46ed-b684-03668a23c277"
      },
      "execution_count": 6,
      "outputs": [
        {
          "output_type": "stream",
          "name": "stdout",
          "text": [
            "digite uma data (DD/MM/YYYY):09/03/2025\n",
            "o dia da semana é: domingo\n",
            "09/03/2025 e são 14:35:00 em São Pulo\n",
            "09/03/2025 e são 13:35:00 em Nova York\n",
            "10/03/2025 e são 02:35:00 em Tokyo\n"
          ]
        }
      ]
    }
  ]
}