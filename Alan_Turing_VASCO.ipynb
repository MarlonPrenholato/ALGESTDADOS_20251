{
  "nbformat": 4,
  "nbformat_minor": 0,
  "metadata": {
    "colab": {
      "provenance": [],
      "authorship_tag": "ABX9TyM6B3XbBLYkatpVFW64D9kD",
      "include_colab_link": true
    },
    "kernelspec": {
      "name": "python3",
      "display_name": "Python 3"
    },
    "language_info": {
      "name": "python"
    }
  },
  "cells": [
    {
      "cell_type": "markdown",
      "metadata": {
        "id": "view-in-github",
        "colab_type": "text"
      },
      "source": [
        "<a href=\"https://colab.research.google.com/github/MarlonPrenholato/ALGESTDADOS_20251/blob/main/Alan_Turing_VASCO.ipynb\" target=\"_parent\"><img src=\"https://colab.research.google.com/assets/colab-badge.svg\" alt=\"Open In Colab\"/></a>"
      ]
    },
    {
      "cell_type": "code",
      "source": [
        "\n",
        "num1= int (input('digite o primeiro numero: '))\n",
        "\n",
        "num2= int (input('digite o segundo numero: '))\n",
        "resultado=num1 + num2\n",
        "print(resultado)\n"
      ],
      "metadata": {
        "colab": {
          "base_uri": "https://localhost:8080/"
        },
        "id": "ZMz4rQoraLcl",
        "outputId": "a4275abe-ab72-41b2-bed7-70404334d458"
      },
      "execution_count": null,
      "outputs": [
        {
          "output_type": "stream",
          "name": "stdout",
          "text": [
            "digite o primeiro numero: 19\n",
            "digite o segundo numero: 19\n",
            "38\n"
          ]
        }
      ]
    },
    {
      "cell_type": "code",
      "source": [
        "#Programa para calcular o IMC\n",
        "num1= int (input('digite o peso numero: '))\n",
        "print(f'Seu peso é {num1}Kg')\n",
        "num2= float (input('digite a altura numero: '))\n",
        "print(f'Sua altura é {num2}m')\n",
        "\n",
        "resultado=num1 / (num2**2)\n",
        "print(f'{resultado}%')"
      ],
      "metadata": {
        "colab": {
          "base_uri": "https://localhost:8080/"
        },
        "id": "kQGNLhNy-5MQ",
        "outputId": "e0d5d758-b44f-4c45-e848-e23cbbc69c64"
      },
      "execution_count": null,
      "outputs": [
        {
          "output_type": "stream",
          "name": "stdout",
          "text": [
            "digite o peso numero: 90\n",
            "Seu peso é 90Kg\n",
            "digite a altura numero: 1.70\n",
            "Sua altura é 1.7m\n",
            "31.14186851211073 %\n"
          ]
        }
      ]
    },
    {
      "cell_type": "code",
      "source": [
        "#Criar um programa que retorne o nome, a cidade e a idade de um usuário através da sua data de nascimento:\n",
        "\n",
        "from datetime import datetime\n",
        "\n",
        "nome = input('digite o seu nome: ')\n",
        "cidade = input('digite o nome da sua cidade: ')\n",
        "data_nasc = input('digite quando você nasceu (DD/MM/YYYY):')\n",
        "\n",
        "\n",
        "idade = datetime.now() - datetime.strptime(data_nasc, '%d/%m/%Y')\n",
        "\n",
        "idade = idade.days // 365\n",
        "\n",
        "print(f'Seu nome é {nome}, sua cidade é {cidade}, sua idade é {idade} anos.')\n"
      ],
      "metadata": {
        "id": "QIBlxutUaA4k",
        "colab": {
          "base_uri": "https://localhost:8080/"
        },
        "outputId": "4a425f4b-4253-4029-84a9-a61ced90c8ec"
      },
      "execution_count": null,
      "outputs": [
        {
          "output_type": "stream",
          "name": "stdout",
          "text": [
            "digite o seu nome: Marlon \n",
            "digite o nome da sua cidade: Nova Venécia - ES \n",
            "digite quando você nasceu (DD/MM/YYYY):10/06/2005\n",
            "Seu nome é Marlon , sua cidade é Nova Venécia - ES , sua idade é 19 anos.\n"
          ]
        }
      ]
    },
    {
      "cell_type": "code",
      "source": [
        "from datetime import datetime, date,  time, timedelta\n",
        "import pytz\n",
        "\n",
        "#data_hora_atual = datetime.now()\n",
        "#print('data e hora atual: ', data_hora_atual)\n",
        "\n",
        "fuso_horario = pytz.timezone('America/Sao_Paulo')\n",
        "data_hora_sao_paulo = datetime.now(fuso_horario)\n",
        "print(data_hora_sao_paulo.strftime('%d/%m/%Y e são %H:%M:%S'))\n"
      ],
      "metadata": {
        "colab": {
          "base_uri": "https://localhost:8080/"
        },
        "id": "Kn8L7oSGxoMw",
        "outputId": "36a812a7-5a41-4df3-e84c-3a1c3219ae81"
      },
      "execution_count": null,
      "outputs": [
        {
          "output_type": "stream",
          "name": "stdout",
          "text": [
            "07/03/2025 e são 15:20:19\n"
          ]
        }
      ]
    },
    {
      "cell_type": "code",
      "source": [
        "from datetime import datetime, date,  time, timedelta\n",
        "import pytz\n",
        "\n",
        "#1 Solicite a data e hora atual do sistema e exiba-a formatado no seguinte formato: \"dia de mês de ano, HH:MM:SS\"\n",
        "fuso_horario = pytz.timezone('America/Sao_Paulo')\n",
        "data_hora_sao_paulo = datetime.now(fuso_horario)\n",
        "print(data_hora_sao_paulo.strftime('%d/%m/%Y e são %H:%M:%S'))\n",
        "\n",
        "#2 Pedir ao usuário sua data de nascimento (no formato dd/mm/aaaa) e calcular sua idade atual.\n",
        "data_nasc = input('digite quando você nasceu (DD/MM/YYYY):')\n",
        "\n",
        "idade = datetime.now() - datetime.strptime(data_nasc, '%d/%m/%Y')\n",
        "\n",
        "idade = idade.days // 365\n",
        "print(f'Sua idade é {idade} anos.')\n",
        "\n",
        "#3 Peça ao usuário a data de um evento futuro e calcule quantos dias faltam para ele:\n",
        "\n",
        "data_event = input('digite quando será o evento (DD/MM/YYYY):')\n",
        "data_event_De = datetime.strptime(data_event, '%d/%m/%Y') . date()\n",
        "calc = (data_event_De - date.today()).days\n",
        "\n",
        "\n",
        "print(f'Faltam {calc} dias para o evento.')\n",
        "\n",
        "#5 Exiba a date e hora atuais em três fusos horários diferentes: São Paulo, Nova York e Tókio\n"
      ],
      "metadata": {
        "colab": {
          "base_uri": "https://localhost:8080/"
        },
        "id": "pRQIyS6q9AMM",
        "outputId": "0653bd61-82aa-4329-8003-ef02ac215212"
      },
      "execution_count": null,
      "outputs": [
        {
          "output_type": "stream",
          "name": "stdout",
          "text": [
            "09/03/2025 e são 14:36:47\n",
            "digite quando você nasceu (DD/MM/YYYY):10/06/2005\n",
            "Sua idade é 19 anos.\n",
            "digite quando será o evento (DD/MM/YYYY):10/12/2030\n",
            "Faltam 2102 dias para o evento.\n"
          ]
        }
      ]
    },
    {
      "cell_type": "code",
      "source": [
        "#4 Peça ao usuário uma dta e informe o seu dia da semana correspondente:\n",
        "\n",
        "from datetime import datetime, date,  time, timedelta\n",
        "import pytz\n",
        "dias = ['segunda-feira', 'terça-feira', 'quarta-feira', 'quinta-feira', 'sexta-feira', 'sábado', 'domingo']\n",
        "data_usuario = input('digite uma data (DD/MM/YYYY):')\n",
        "data_usuario_D = datetime.strptime(data_usuario, '%d/%m/%Y') . weekday()\n",
        "print(f'o dia da semana é: {dias[data_usuario_D]}')\n",
        "\n",
        "#5 Exiba a date e hora atuais em três fusos horários diferentes: São Paulo, Nova York e Tókio\n",
        "\n",
        "fuso_horario = pytz.timezone('America/Sao_Paulo')\n",
        "data_hora_sao_paulo = datetime.now(fuso_horario)\n",
        "print(data_hora_sao_paulo.strftime('%d/%m/%Y e são %H:%M:%S em São Pulo'))\n",
        "\n",
        "fuso_horario = pytz.timezone('America/New_York')\n",
        "data_hora_nova_York = datetime.now(fuso_horario)\n",
        "print(data_hora_nova_York.strftime('%d/%m/%Y e são %H:%M:%S em Nova York'))\n",
        "\n",
        "fuso_horario = pytz.timezone('Asia/Tokyo')\n",
        "data_hora_tokyo = datetime.now(fuso_horario)\n",
        "print(data_hora_tokyo.strftime('%d/%m/%Y e são %H:%M:%S em Tokyo'))"
      ],
      "metadata": {
        "colab": {
          "base_uri": "https://localhost:8080/"
        },
        "id": "vDJUGnMk6vsd",
        "outputId": "6726625c-ede7-46ed-b684-03668a23c277"
      },
      "execution_count": null,
      "outputs": [
        {
          "output_type": "stream",
          "name": "stdout",
          "text": [
            "digite uma data (DD/MM/YYYY):09/03/2025\n",
            "o dia da semana é: domingo\n",
            "09/03/2025 e são 14:35:00 em São Pulo\n",
            "09/03/2025 e são 13:35:00 em Nova York\n",
            "10/03/2025 e são 02:35:00 em Tokyo\n"
          ]
        }
      ]
    },
    {
      "cell_type": "code",
      "source": [
        "num1= int(input('digite o primeiro numero: '))\n",
        "num2= int(input('digite o segundo numero: '))\n",
        "resultado = num1 + num2\n",
        "print(resultado)"
      ],
      "metadata": {
        "colab": {
          "base_uri": "https://localhost:8080/"
        },
        "id": "VwYxUKdUXNoD",
        "outputId": "a02d2583-d6dc-4ef1-b4ed-f28a35804600"
      },
      "execution_count": null,
      "outputs": [
        {
          "output_type": "stream",
          "name": "stdout",
          "text": [
            "digite o primeiro numero: 12\n",
            "digite o segundo numero: 2\n",
            "14\n"
          ]
        }
      ]
    },
    {
      "cell_type": "code",
      "source": [
        "primeiro= input('digite o seu priumeiro nome: ')\n",
        "ultimo= input('digite o ultimo nome: ')\n",
        "\n",
        "print(f'seu nome completo é {primeiro} {ultimo}')"
      ],
      "metadata": {
        "colab": {
          "base_uri": "https://localhost:8080/"
        },
        "id": "uwIeMMkgZuxe",
        "outputId": "dfa4d6e5-90e0-47b5-f0d3-14ad34e3d1ef"
      },
      "execution_count": null,
      "outputs": [
        {
          "output_type": "stream",
          "name": "stdout",
          "text": [
            "digite o seu priumeiro nome: marlon \n",
            "digite o ultimo nome: jesus\n",
            "seu nome completo é marlon  jesus\n"
          ]
        }
      ]
    },
    {
      "cell_type": "code",
      "source": [
        "nome= input('insira uma nome: ')\n",
        "num= int(input('insira um numero:'))\n",
        "resultado= nome*num\n",
        "\n",
        "print(f'seu nome é: {resultado}')"
      ],
      "metadata": {
        "colab": {
          "base_uri": "https://localhost:8080/"
        },
        "id": "kz09fZ3Sarjc",
        "outputId": "52f4742c-002e-427a-e687-6d52378e3392"
      },
      "execution_count": null,
      "outputs": [
        {
          "output_type": "stream",
          "name": "stdout",
          "text": [
            "insira uma nome: marlon\n",
            "insira um numero:4\n",
            "seu nome é: marlonmarlonmarlonmarlon\n"
          ]
        }
      ]
    },
    {
      "cell_type": "code",
      "source": [
        "text= input('insira um texto: ')\n",
        "print(text.upper())\n",
        "print(f'possuí {len(text)} caracteres o texto, incluindo os espaços {text}')"
      ],
      "metadata": {
        "colab": {
          "base_uri": "https://localhost:8080/"
        },
        "id": "9rY3aGqcco-0",
        "outputId": "6862a65f-dce6-4e48-c5ed-09f8d5fecb00"
      },
      "execution_count": null,
      "outputs": [
        {
          "output_type": "stream",
          "name": "stdout",
          "text": [
            "insira um texto: vasco da gama\n",
            "VASCO DA GAMA\n",
            "possuí 13 caracteres palavra vasco da gama\n"
          ]
        }
      ]
    },
    {
      "cell_type": "code",
      "source": [
        "from datetime import datetime\n",
        "import pytz\n",
        "\n",
        "data_hora= pytz.timezone('america/sao_paulo')\n",
        "data_e_hora= datetime.now(data_hora)\n",
        "\n",
        "print(data_e_hora)"
      ],
      "metadata": {
        "colab": {
          "base_uri": "https://localhost:8080/"
        },
        "id": "a2miOfvQfASM",
        "outputId": "396fe771-6ded-4da0-faaf-ab8c5b5a7ca1"
      },
      "execution_count": null,
      "outputs": [
        {
          "output_type": "stream",
          "name": "stdout",
          "text": [
            "2025-03-13 14:17:07.681498-03:00\n"
          ]
        }
      ]
    },
    {
      "cell_type": "code",
      "source": [
        "num1= float(input('insira o primeiro valor: '))\n",
        "num2= float(input('insira o segundo valor: '))\n",
        "num3= float(input('insira o terceiro valor: '))\n",
        "\n",
        "calc= (num1+num2+num3)/ 3\n",
        "\n",
        "print(calc)"
      ],
      "metadata": {
        "colab": {
          "base_uri": "https://localhost:8080/"
        },
        "id": "ACa7Q5ONgyNm",
        "outputId": "34b333c3-2c9b-4e90-896a-a929bf26a9ca"
      },
      "execution_count": null,
      "outputs": [
        {
          "output_type": "stream",
          "name": "stdout",
          "text": [
            "insira o primeiro valor: 2\n",
            "insira o segundo valor: 2\n",
            "insira o terceiro valor: 2\n",
            "2.0\n"
          ]
        }
      ]
    },
    {
      "cell_type": "code",
      "source": [
        "import math\n",
        "\n",
        "num= float(input('insira o valor do raio de um círculo: '))\n",
        "\n",
        "area= (math.pi) * (pow(num , 2))\n",
        "\n",
        "\n",
        "print(f'o valor da área é: {area}')"
      ],
      "metadata": {
        "colab": {
          "base_uri": "https://localhost:8080/"
        },
        "id": "mAj59Eq61GXl",
        "outputId": "a4bfa936-4f60-4387-8aa9-8a0644b3a125"
      },
      "execution_count": null,
      "outputs": [
        {
          "output_type": "stream",
          "name": "stdout",
          "text": [
            "insira o valor do raio de um círculo: 2\n",
            "o valor da área é: 12.566370614359172\n"
          ]
        }
      ]
    },
    {
      "cell_type": "code",
      "source": [
        "# Peça um número e exiba o fatorial dele.\n",
        "import math\n",
        "numero= int(input('digite o numero:'))\n",
        "\n",
        "# Para garantir que não haja o número 0 na multiplicação\n",
        "fatorial = 1\n",
        "\n",
        "#Função de repetoção (Laço flor)\n",
        "for i in range(1, numero + 1):\n",
        "\n",
        "  fatorial *= i\n",
        "\n",
        "print(f'fatoria de {numero} é {fatorial}.')"
      ],
      "metadata": {
        "colab": {
          "base_uri": "https://localhost:8080/"
        },
        "id": "1mOAS5uW4xN1",
        "outputId": "d8f35a97-ce0d-4cdd-bc21-3aa863d0aa51"
      },
      "execution_count": null,
      "outputs": [
        {
          "output_type": "stream",
          "name": "stdout",
          "text": [
            "digite o numero:4\n",
            "fatoria de 4 é 24.\n"
          ]
        }
      ]
    },
    {
      "cell_type": "code",
      "source": [
        "from datetime import datetime\n"
      ],
      "metadata": {
        "id": "ermemiVdIiHZ"
      },
      "execution_count": null,
      "outputs": []
    },
    {
      "cell_type": "code",
      "source": [
        "#Peça o número e informe se ele é maior que 10.\n",
        "\n",
        "numero = int(input(\"Digite um numero:\"))\n",
        "\n",
        "if numero > 10:\n",
        "\n",
        "  print(f'{numero} é maior que 10.')\n",
        "\n",
        "else:\n",
        "  print(f'{numero} não maior que 10.')"
      ],
      "metadata": {
        "colab": {
          "base_uri": "https://localhost:8080/"
        },
        "id": "Bw_sxHXIWfIx",
        "outputId": "f318668c-004d-42a0-f25c-065c521d7149"
      },
      "execution_count": 5,
      "outputs": [
        {
          "output_type": "stream",
          "name": "stdout",
          "text": [
            "Digite um numero:5\n",
            "5 não maior que 10.\n"
          ]
        }
      ]
    },
    {
      "cell_type": "code",
      "source": [
        "#Peça um número inteiro e informe se ele é par.\n",
        "\n",
        "numero = int(input(\"Digite um numero:\"))\n",
        "if numero%2 == 0:\n",
        "\n",
        "  print(f'{numero} é um valor par.')\n",
        "\n",
        "else:\n",
        "  print(f'{numero} é um valor ímpar.')"
      ],
      "metadata": {
        "colab": {
          "base_uri": "https://localhost:8080/"
        },
        "id": "NmluhY7GZuQ3",
        "outputId": "81cf593e-b244-45ca-b4c6-aa9876f0b31b"
      },
      "execution_count": 10,
      "outputs": [
        {
          "output_type": "stream",
          "name": "stdout",
          "text": [
            "Digite um numero:5\n",
            "5 é um valor ímpar.\n"
          ]
        }
      ]
    },
    {
      "cell_type": "code",
      "source": [
        "#Peça um nome e informe se ele contém a letra \"a\".\n",
        "\n",
        "palavra= input('digite uma palavra:')\n",
        "if 'a' in palavra:\n",
        "  print(f'a palavra {palavra} possui a letra A')\n",
        "else:\n",
        "  print(f'a palavra {palavra} não possui a letra A.')"
      ],
      "metadata": {
        "colab": {
          "base_uri": "https://localhost:8080/"
        },
        "id": "PFIQDdCSbn65",
        "outputId": "02b8fc42-07c1-42cb-9c17-bb8a63a9ae66"
      },
      "execution_count": 17,
      "outputs": [
        {
          "output_type": "stream",
          "name": "stdout",
          "text": [
            "digite uma palavra:Cleiton\n",
            "a palavra Cleiton não possui a letra A.\n"
          ]
        }
      ]
    },
    {
      "cell_type": "code",
      "source": [
        "#Peça um número e informe se ele é múltiplo de 5.\n",
        "\n",
        "num= int(input('Digite um número: '))\n",
        "if num %5==0:\n",
        "  print(f'{num} é um valor multiplo de 5')\n",
        "\n",
        "else:\n",
        "  print(f'{num} não é um valor multiplo de 5')"
      ],
      "metadata": {
        "colab": {
          "base_uri": "https://localhost:8080/"
        },
        "id": "8S5xq8IGdxAb",
        "outputId": "8801459e-dbcb-45a8-934a-4d1051df52d5"
      },
      "execution_count": 19,
      "outputs": [
        {
          "output_type": "stream",
          "name": "stdout",
          "text": [
            "Digite um número: 45\n",
            "45 é um valor multiplo de 5\n"
          ]
        }
      ]
    },
    {
      "cell_type": "code",
      "source": [
        "#Peça a temperatura atual e informe se está quente (acima de 30°C) ou frio (30°C ou menos).\n",
        "\n",
        "temp= int(input('Digite uma temperatura: '))\n",
        "if  30 < temp:\n",
        "  print(f'a temperatura está alta, está quente {temp}°C.')\n",
        "else:\n",
        "  print(f'a temperatura está baixa, está frio {temp}°C.')"
      ],
      "metadata": {
        "colab": {
          "base_uri": "https://localhost:8080/"
        },
        "id": "0KeKydW3erP0",
        "outputId": "c182c4c7-d79e-4983-c190-270b55a8e43d"
      },
      "execution_count": 26,
      "outputs": [
        {
          "output_type": "stream",
          "name": "stdout",
          "text": [
            "Digite uma temperatura: 13\n",
            "a temperatura está baixa, está frio 13°C.\n"
          ]
        }
      ]
    },
    {
      "cell_type": "code",
      "source": [
        "# 8 - Peça ao usuário para digitar \"S\" para continuar ou \"N\" para sair e informe a ação correspondente.\n",
        "\n",
        "let= input('Digite uma letra:')\n",
        "let= let.lower()\n",
        "\n",
        "if 's' in let:\n",
        "  print('continuar')\n",
        "\n",
        "elif 'n' in let:\n",
        "  print('Sair')\n",
        "\n",
        "else:\n",
        "  print('Ação inválida')"
      ],
      "metadata": {
        "colab": {
          "base_uri": "https://localhost:8080/"
        },
        "id": "9rH2A19IhOF5",
        "outputId": "dffca3cd-8023-4de4-e3cb-025923a08c0a"
      },
      "execution_count": 38,
      "outputs": [
        {
          "output_type": "stream",
          "name": "stdout",
          "text": [
            "Digite uma letra:n\n",
            "Sair\n"
          ]
        }
      ]
    },
    {
      "cell_type": "code",
      "source": [
        "#Peça um número e informe se ele é negativo, zero ou positivo.\n",
        "\n",
        "num= int(input('Digite m valor: '))\n",
        "\n",
        "if num > 0:\n",
        "  print(f'{num} é um valor positivo.')\n",
        "\n",
        "elif num == 0:\n",
        "  print(f'{num} é zero')\n",
        "\n",
        "else:\n",
        "  print(f'{num} é um valor negativo.')"
      ],
      "metadata": {
        "colab": {
          "base_uri": "https://localhost:8080/"
        },
        "id": "Laebl5I3ixws",
        "outputId": "c0837e6d-ca89-455f-bec1-d7cd1c6e3af5"
      },
      "execution_count": 39,
      "outputs": [
        {
          "output_type": "stream",
          "name": "stdout",
          "text": [
            "Digite m valor: 0\n",
            "0 é zero\n"
          ]
        }
      ]
    },
    {
      "cell_type": "code",
      "source": [
        "#Peça um número de 1 a 7 e informe o dia da semana correspondente.\n",
        "\n"
      ],
      "metadata": {
        "id": "hVLJmPSRkH_V"
      },
      "execution_count": null,
      "outputs": []
    }
  ]
}