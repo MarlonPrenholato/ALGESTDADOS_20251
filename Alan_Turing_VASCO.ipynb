{
  "nbformat": 4,
  "nbformat_minor": 0,
  "metadata": {
    "colab": {
      "provenance": [],
      "authorship_tag": "ABX9TyPnuTRMRktu+jNSY8dPIcDo",
      "include_colab_link": true
    },
    "kernelspec": {
      "name": "python3",
      "display_name": "Python 3"
    },
    "language_info": {
      "name": "python"
    }
  },
  "cells": [
    {
      "cell_type": "markdown",
      "metadata": {
        "id": "view-in-github",
        "colab_type": "text"
      },
      "source": [
        "<a href=\"https://colab.research.google.com/github/MarlonPrenholato/ALGESTDADOS_20251/blob/main/Alan_Turing_VASCO.ipynb\" target=\"_parent\"><img src=\"https://colab.research.google.com/assets/colab-badge.svg\" alt=\"Open In Colab\"/></a>"
      ]
    },
    {
      "cell_type": "code",
      "source": [
        "\n",
        "num1= int (input('digite o primeiro numero: '))\n",
        "num2= int (input('digite o segundo numero: '))\n",
        "resultado=num1 + num2\n",
        "print(resultado)\n",
        "\n"
      ],
      "metadata": {
        "colab": {
          "base_uri": "https://localhost:8080/"
        },
        "id": "ZMz4rQoraLcl",
        "outputId": "80383d9c-eb1d-4c92-9b1f-12026c795910"
      },
      "execution_count": null,
      "outputs": [
        {
          "output_type": "stream",
          "name": "stdout",
          "text": [
            "digite o primeiro numero: 24\n",
            "digite o segundo numero: 11\n",
            "35\n"
          ]
        }
      ]
    },
    {
      "cell_type": "code",
      "source": [],
      "metadata": {
        "id": "QIBlxutUaA4k"
      },
      "execution_count": null,
      "outputs": []
    }
  ]
}