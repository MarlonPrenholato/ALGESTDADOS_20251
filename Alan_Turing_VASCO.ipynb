{
  "nbformat": 4,
  "nbformat_minor": 0,
  "metadata": {
    "colab": {
      "provenance": [],
      "authorship_tag": "ABX9TyMf8eyRBby4n/+3/nyevKWq",
      "include_colab_link": true
    },
    "kernelspec": {
      "name": "python3",
      "display_name": "Python 3"
    },
    "language_info": {
      "name": "python"
    }
  },
  "cells": [
    {
      "cell_type": "markdown",
      "metadata": {
        "id": "view-in-github",
        "colab_type": "text"
      },
      "source": [
        "<a href=\"https://colab.research.google.com/github/MarlonPrenholato/ALGESTDADOS_20251/blob/main/Alan_Turing_VASCO.ipynb\" target=\"_parent\"><img src=\"https://colab.research.google.com/assets/colab-badge.svg\" alt=\"Open In Colab\"/></a>"
      ]
    },
    {
      "cell_type": "code",
      "source": [
        "\n",
        "num1= int (input('digite o primeiro numero: '))\n",
        "\n",
        "num2= int (input('digite o segundo numero: '))\n",
        "resultado=num1 + num2\n",
        "print(resultado)\n"
      ],
      "metadata": {
        "colab": {
          "base_uri": "https://localhost:8080/"
        },
        "id": "ZMz4rQoraLcl",
        "outputId": "a4275abe-ab72-41b2-bed7-70404334d458"
      },
      "execution_count": 10,
      "outputs": [
        {
          "output_type": "stream",
          "name": "stdout",
          "text": [
            "digite o primeiro numero: 19\n",
            "digite o segundo numero: 19\n",
            "38\n"
          ]
        }
      ]
    },
    {
      "cell_type": "code",
      "source": [
        "num1= int (input('digite o peso numero: '))\n",
        "print(f'Seu peso é {num1}Kg')\n",
        "num2= float (input('digite a altura numero: '))\n",
        "print(f'Sua altura é {num2}m')\n",
        "\n",
        "resultado=num1 / (num2**2)\n",
        "print(f'{resultado}%')"
      ],
      "metadata": {
        "colab": {
          "base_uri": "https://localhost:8080/"
        },
        "id": "kQGNLhNy-5MQ",
        "outputId": "e0d5d758-b44f-4c45-e848-e23cbbc69c64"
      },
      "execution_count": 19,
      "outputs": [
        {
          "output_type": "stream",
          "name": "stdout",
          "text": [
            "digite o peso numero: 90\n",
            "Seu peso é 90Kg\n",
            "digite a altura numero: 1.70\n",
            "Sua altura é 1.7m\n",
            "31.14186851211073 %\n"
          ]
        }
      ]
    },
    {
      "cell_type": "code",
      "source": [],
      "metadata": {
        "id": "QIBlxutUaA4k"
      },
      "execution_count": null,
      "outputs": []
    }
  ]
}