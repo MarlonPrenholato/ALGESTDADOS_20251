{
  "nbformat": 4,
  "nbformat_minor": 0,
  "metadata": {
    "colab": {
      "provenance": [],
      "authorship_tag": "ABX9TyOkMOmDhW/CEo/ZhhR72N/1",
      "include_colab_link": true
    },
    "kernelspec": {
      "name": "python3",
      "display_name": "Python 3"
    },
    "language_info": {
      "name": "python"
    }
  },
  "cells": [
    {
      "cell_type": "markdown",
      "metadata": {
        "id": "view-in-github",
        "colab_type": "text"
      },
      "source": [
        "<a href=\"https://colab.research.google.com/github/MarlonPrenholato/ALGESTDADOS_20251/blob/main/Atividade_prova.ipynb\" target=\"_parent\"><img src=\"https://colab.research.google.com/assets/colab-badge.svg\" alt=\"Open In Colab\"/></a>"
      ]
    },
    {
      "cell_type": "code",
      "execution_count": 4,
      "metadata": {
        "colab": {
          "base_uri": "https://localhost:8080/"
        },
        "id": "MVHURarizNUf",
        "outputId": "035a15f7-7ee8-40d0-be05-e32fd12f3a8e"
      },
      "outputs": [
        {
          "output_type": "stream",
          "name": "stdout",
          "text": [
            "2025\n"
          ]
        }
      ],
      "source": [
        "#7\n",
        "from datetime import datetime, time, date, timedelta\n",
        "data_atual = datetime.now().year\n",
        "print(data_atual)"
      ]
    },
    {
      "cell_type": "code",
      "source": [
        "#8\n",
        "for i in range(1,11):\n",
        "    if i%3 == 0:\n",
        "        continue\n",
        "    print(i)"
      ],
      "metadata": {
        "colab": {
          "base_uri": "https://localhost:8080/"
        },
        "id": "VH5O_YxEzkm8",
        "outputId": "08c03c99-3449-4a63-a09a-690999041be3"
      },
      "execution_count": 3,
      "outputs": [
        {
          "output_type": "stream",
          "name": "stdout",
          "text": [
            "1\n",
            "2\n",
            "4\n",
            "5\n",
            "7\n",
            "8\n",
            "10\n"
          ]
        }
      ]
    },
    {
      "cell_type": "code",
      "source": [
        "#9\n",
        "frase= input(\"Digite uma frase: \")\n",
        "x= len(frase)\n",
        "if x>10:\n",
        " print(x)"
      ],
      "metadata": {
        "colab": {
          "base_uri": "https://localhost:8080/"
        },
        "id": "RAEpRr87zk18",
        "outputId": "35fd3f78-42ad-4e97-cb7d-9edc7c3bd5fd"
      },
      "execution_count": 1,
      "outputs": [
        {
          "output_type": "stream",
          "name": "stdout",
          "text": [
            "Digite uma frase: Clube de Regatas Vasco da Gama\n",
            "30\n"
          ]
        }
      ]
    },
    {
      "cell_type": "code",
      "source": [
        "#10\n",
        "pote_a= int(input(\"Digite um valor: \"))\n",
        "pote_b= int(input(\"Digite um valor: \"))\n",
        "pote_c= 0\n",
        "pote_c = pote_a\n",
        "pote_a= pote_b\n",
        "pote_b=pote_c\n",
        "print(pote_a)\n",
        "print(pote_b)"
      ],
      "metadata": {
        "colab": {
          "base_uri": "https://localhost:8080/"
        },
        "id": "2m1eUFsHzlKM",
        "outputId": "a6b775f0-c1eb-479b-8e9d-513d8012b222"
      },
      "execution_count": 2,
      "outputs": [
        {
          "output_type": "stream",
          "name": "stdout",
          "text": [
            "Digite um valor: 1\n",
            "Digite um valor: 2\n",
            "2\n",
            "1\n"
          ]
        }
      ]
    }
  ]
}